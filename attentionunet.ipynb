{
  "nbformat": 4,
  "nbformat_minor": 0,
  "metadata": {
    "colab": {
      "provenance": [],
      "authorship_tag": "ABX9TyPHnQFlvNFRgbj6MzWZJkEj",
      "include_colab_link": true
    },
    "kernelspec": {
      "name": "python3",
      "display_name": "Python 3"
    },
    "language_info": {
      "name": "python"
    }
  },
  "cells": [
    {
      "cell_type": "markdown",
      "metadata": {
        "id": "view-in-github",
        "colab_type": "text"
      },
      "source": [
        "<a href=\"https://colab.research.google.com/github/Y-Noor/attention-unet/blob/main/attentionunet.ipynb\" target=\"_parent\"><img src=\"https://colab.research.google.com/assets/colab-badge.svg\" alt=\"Open In Colab\"/></a>"
      ]
    },
    {
      "cell_type": "code",
      "execution_count": null,
      "metadata": {
        "id": "RGeQcsex9BGW"
      },
      "outputs": [],
      "source": [
        "import tensorflow as tf\n",
        "from tensorflow.keras import layers, models, backend as K"
      ]
    },
    {
      "cell_type": "code",
      "source": [
        "def attention_gate(x, g, inter_shape):\n",
        "    # Input x: Feature map from the encoder\n",
        "    # Input g: Gating signal from the decoder\n",
        "    # inter_shape: Number of intermediate filters in the attention mechanism\n",
        "\n",
        "    x_val = k.int(x)\n",
        "    g_val = k.int(g)\n",
        "\n",
        "    phi_x = layers.Conv2D(inter_shape, kernel_size=1, strides=1, padding='same')(x_val)\n",
        "    phi_g = layers.Conv2D(inter_shape, kernel_size=1, strides=1, padding='same')(g_val)\n",
        "\n",
        "    add_xg = layers.add([theta_x, phi_g])\n",
        "\n",
        "    relu_xg = layers.Activation('relu')(add_xg)\n",
        "\n",
        "    phi_xg = layers.Conv2D(1, kernel_size=1, strides=1, padding='same')(relu_xg)\n",
        "\n",
        "    sigmoid_xg = layers.Activation('sigmoid')(phi_xg)\n",
        "\n",
        "    attention_coeffs = layers.multiply([x_val, sigmoid_xg])\n",
        "\n",
        "    return attention_coeffs\n"
      ],
      "metadata": {
        "id": "5G4Qw39kIyLa"
      },
      "execution_count": null,
      "outputs": []
    }
  ]
}