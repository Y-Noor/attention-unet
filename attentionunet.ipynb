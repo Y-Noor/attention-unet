{
  "nbformat": 4,
  "nbformat_minor": 0,
  "metadata": {
    "colab": {
      "provenance": [],
      "authorship_tag": "ABX9TyMTRJFC8a/9ljOA6YE1jC9v",
      "include_colab_link": true
    },
    "kernelspec": {
      "name": "python3",
      "display_name": "Python 3"
    },
    "language_info": {
      "name": "python"
    }
  },
  "cells": [
    {
      "cell_type": "markdown",
      "metadata": {
        "id": "view-in-github",
        "colab_type": "text"
      },
      "source": [
        "<a href=\"https://colab.research.google.com/github/Y-Noor/attention-unet/blob/main/attentionunet.ipynb\" target=\"_parent\"><img src=\"https://colab.research.google.com/assets/colab-badge.svg\" alt=\"Open In Colab\"/></a>"
      ]
    },
    {
      "cell_type": "code",
      "execution_count": null,
      "metadata": {
        "id": "RGeQcsex9BGW"
      },
      "outputs": [],
      "source": [
        "import tensorflow as tf\n",
        "from tensorflow.keras import layers, models, backend as K"
      ]
    },
    {
      "cell_type": "code",
      "source": [
        "def attention_gate(x, g, inter_shape):\n",
        "    # Input x: Feature map from the encoder\n",
        "    # Input g: Gating signal from the decoder\n",
        "    # inter_shape: Number of intermediate filters in the attention mechanism\n",
        "\n",
        "    x_val = k.int(x)\n",
        "    g_val = k.int(g)\n",
        "\n",
        "    phi_x = layers.Conv2D(inter_shape, kernel_size=1, strides=1, padding='same')(x_val)\n",
        "    phi_g = layers.Conv2D(inter_shape, kernel_size=1, strides=1, padding='same')(g_val)\n",
        "\n",
        "    add_xg = layers.add([theta_x, phi_g])\n",
        "\n",
        "    relu_xg = layers.Activation('relu')(add_xg)\n",
        "\n",
        "    phi_xg = layers.Conv2D(1, kernel_size=1, strides=1, padding='same')(relu_xg)\n",
        "\n",
        "    sigmoid_xg = layers.Activation('sigmoid')(phi_xg)\n",
        "\n",
        "    attention_coeffs = layers.multiply([x_val, sigmoid_xg])\n",
        "\n",
        "    return attention_coeffs\n"
      ],
      "metadata": {
        "id": "5G4Qw39kIyLa"
      },
      "execution_count": null,
      "outputs": []
    },
    {
      "cell_type": "markdown",
      "source": [
        "From what I understand, there is a pattern of:\n",
        "\n",
        "> conv\n",
        "\n",
        "> conv -> send to decoder layer through attention gate\n",
        "\n",
        "> pool\n",
        "\n",
        "followed by:\n",
        "> upsample\n",
        "\n",
        "> upsample\n",
        "\n",
        "> concatenate with signal received from encoder\n"
      ],
      "metadata": {
        "id": "T0w67rEYMaL3"
      }
    },
    {
      "cell_type": "code",
      "source": [
        "def upsampling(x):\n",
        "    return tf.image.resize(x, size=(2*n, 2*n), method='nearest')\n",
        "\n",
        "# upsampled = layers.Lambda(upsampling)(input_tensor)\n"
      ],
      "metadata": {
        "id": "j7NW4uU_P-aX"
      },
      "execution_count": null,
      "outputs": []
    },
    {
      "cell_type": "code",
      "source": [
        "def unet(input_shape, num_classes):\n",
        "    inputs = layers.Input(input_shape)\n",
        "\n",
        "    # encoder\n",
        "    conv1 = layers.Conv2D(64, (3, 3), activation='relu', padding='same')(inputs)\n",
        "    conv1 = layers.Conv2D(64, (3, 3), activation='relu', padding='same')(conv1)\n",
        "    pool1 = layers.MaxPooling2D(pool_size=(2, 2))(conv1)\n",
        "\n",
        "    conv2 = layers.Conv2D(128, (3, 3), activation='relu', padding='same')(pool1)\n",
        "    conv2 = layers.Conv2D(128, (3, 3), activation='relu', padding='same')(conv2)\n",
        "    pool2 = layers.MaxPooling2D(pool_size=(2, 2))(conv2)\n",
        "\n",
        "    conv3 = layers.Conv2D(256, (3, 3), activation='relu', padding='same')(pool2)\n",
        "    conv3 = layers.Conv2D(256, (3, 3), activation='relu', padding='same')(conv3)\n",
        "    pool3 = layers.MaxPooling2D(pool_size=(2, 2))(conv3)\n",
        "\n",
        "    conv4 = layers.Conv2D(512, (3, 3), activation='relu', padding='same')(pool3)\n",
        "    conv4 = layers.Conv2D(512, (3, 3), activation='relu', padding='same')(conv4)\n",
        "    pool4 = layers.MaxPooling2D(pool_size=(2, 2))(conv4)\n",
        "\n",
        "    # lowest depth\n",
        "    conv5 = layers.Conv2D(1024, (3, 3), activation='relu', padding='same')(pool4)\n",
        "    conv5 = layers.Conv2D(1024, (3, 3), activation='relu', padding='same')(conv5)"
      ],
      "metadata": {
        "id": "9C5ruEZAL5P4"
      },
      "execution_count": null,
      "outputs": []
    }
  ]
}